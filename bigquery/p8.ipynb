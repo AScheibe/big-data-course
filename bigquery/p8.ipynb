{
 "cells": [
  {
   "cell_type": "code",
   "execution_count": 1,
   "metadata": {},
   "outputs": [
    {
     "data": {
      "text/html": [
       "<div>\n",
       "<style scoped>\n",
       "    .dataframe tbody tr th:only-of-type {\n",
       "        vertical-align: middle;\n",
       "    }\n",
       "\n",
       "    .dataframe tbody tr th {\n",
       "        vertical-align: top;\n",
       "    }\n",
       "\n",
       "    .dataframe thead th {\n",
       "        text-align: right;\n",
       "    }\n",
       "</style>\n",
       "<table border=\"1\" class=\"dataframe\">\n",
       "  <thead>\n",
       "    <tr style=\"text-align: right;\">\n",
       "      <th></th>\n",
       "      <th>num_rows</th>\n",
       "    </tr>\n",
       "  </thead>\n",
       "  <tbody>\n",
       "    <tr>\n",
       "      <th>0</th>\n",
       "      <td>3233</td>\n",
       "    </tr>\n",
       "  </tbody>\n",
       "</table>\n",
       "</div>"
      ],
      "text/plain": [
       "   num_rows\n",
       "0      3233"
      ]
     },
     "execution_count": 1,
     "metadata": {},
     "output_type": "execute_result"
    }
   ],
   "source": [
    "from google.cloud import bigquery\n",
    "bq = bigquery.Client()\n",
    "\n",
    "\n",
    "\n",
    "q = bq.query(\n",
    "\"\"\"\n",
    "select count(*) as num_rows \n",
    "from bigquery-public-data.geo_us_boundaries.counties\n",
    "\"\"\")\n",
    "q.to_dataframe()"
   ]
  },
  {
   "cell_type": "code",
   "execution_count": 2,
   "metadata": {},
   "outputs": [],
   "source": [
    "%load_ext google.cloud.bigquery\n",
    "\n"
   ]
  },
  {
   "cell_type": "code",
   "execution_count": 3,
   "metadata": {},
   "outputs": [
    {
     "data": {
      "text/plain": [
       "3.31"
      ]
     },
     "execution_count": 3,
     "metadata": {},
     "output_type": "execute_result"
    }
   ],
   "source": [
    "#Q1\n",
    "\n",
    "q1_query = bq.query(\n",
    "\"\"\"\n",
    "SELECT ROUND((SUM(area_water_meters) / (SUM(area_land_meters) + SUM(area_water_meters))) * 100, 2) AS water_percentage\n",
    "FROM \n",
    "  bigquery-public-data.geo_us_boundaries.counties\n",
    "WHERE \n",
    "  county_name = 'Dane' AND state_fips_code = '55'\n",
    "\"\"\")\n",
    "\n",
    "float(sum(q1_query.to_dataframe()[\"water_percentage\"]))"
   ]
  },
  {
   "cell_type": "code",
   "execution_count": 4,
   "metadata": {},
   "outputs": [
    {
     "data": {
      "text/plain": [
       "{'TX': 254, 'GA': 159, 'VA': 133, 'KY': 120, 'MO': 115}"
      ]
     },
     "execution_count": 4,
     "metadata": {},
     "output_type": "execute_result"
    }
   ],
   "source": [
    "#Q2\n",
    "\n",
    "\n",
    "q2_query = bq.query(\n",
    "\"\"\"\n",
    "SELECT \n",
    "  s.state,\n",
    "  COUNT(c.county_fips_code) AS num_counties\n",
    "FROM \n",
    "  bigquery-public-data.geo_us_boundaries.counties c\n",
    "JOIN \n",
    "  bigquery-public-data.geo_us_boundaries.states s\n",
    "ON \n",
    "  c.state_fips_code = s.state_fips_code\n",
    "GROUP BY \n",
    "  s.state\n",
    "ORDER BY \n",
    "  num_counties DESC\n",
    "LIMIT 5\n",
    "\"\"\")\n",
    "\n",
    "df = q2_query.to_dataframe()\n",
    "\n",
    "result_dict = df.set_index('state')['num_counties'].to_dict()\n",
    "\n",
    "result_dict\n"
   ]
  },
  {
   "cell_type": "code",
   "execution_count": 5,
   "metadata": {},
   "outputs": [
    {
     "data": {
      "text/plain": [
       "{'q1': 5.9604644775390625e-05, 'q2': 0.00011920928955078125}"
      ]
     },
     "execution_count": 5,
     "metadata": {},
     "output_type": "execute_result"
    }
   ],
   "source": [
    "#Q3\n",
    "from google.cloud import bigquery\n",
    "client = bigquery.Client()\n",
    "\n",
    "# Define a function to calculate cost from bytes billed\n",
    "def calculate_cost(bytes_billed, price_per_tb):\n",
    "    return (bytes_billed / (1024**4)) * price_per_tb  \n",
    "\n",
    "current_price_per_tb = 5 \n",
    "\n",
    "# Query Q1\n",
    "query_q1 = \"\"\"\n",
    "SELECT ROUND((SUM(area_water_meters) / (SUM(area_land_meters) + SUM(area_water_meters))) * 100, 2) AS water_percentage\n",
    "FROM \n",
    "  bigquery-public-data.geo_us_boundaries.counties\n",
    "WHERE \n",
    "  county_name = 'Dane' AND state_fips_code = '55'\n",
    "\"\"\"\n",
    "# Query Q2\n",
    "query_q2 = \"\"\"\n",
    "SELECT \n",
    "  s.state,\n",
    "  COUNT(c.county_fips_code) AS num_counties\n",
    "FROM \n",
    "  bigquery-public-data.geo_us_boundaries.counties c\n",
    "JOIN \n",
    "  bigquery-public-data.geo_us_boundaries.states s\n",
    "ON \n",
    "  c.state_fips_code = s.state_fips_code\n",
    "GROUP BY \n",
    "  s.state\n",
    "ORDER BY \n",
    "  num_counties DESC\n",
    "LIMIT 5\n",
    "\"\"\"\n",
    "\n",
    "job_config = bigquery.QueryJobConfig(use_query_cache=False)\n",
    "\n",
    "query_job_q1 = client.query(query_q1, job_config=job_config)\n",
    "result_q1 = query_job_q1.result()  \n",
    "\n",
    "query_job_q2 = client.query(query_q2, job_config=job_config)\n",
    "result_q2 = query_job_q2.result()  \n",
    "\n",
    "def calculate_cost(bytes_billed):\n",
    "    price_per_tb = 6.25  \n",
    "    return (bytes_billed / (1024**4)) * price_per_tb  \n",
    "\n",
    "cost_q1 = calculate_cost(query_job_q1.total_bytes_billed)\n",
    "cost_q2 = calculate_cost(query_job_q2.total_bytes_billed)\n",
    "\n",
    "query_costs = {'q1': float(cost_q1), 'q2': float(cost_q2)}\n",
    "query_costs"
   ]
  },
  {
   "cell_type": "code",
   "execution_count": 6,
   "metadata": {},
   "outputs": [
    {
     "data": {
      "text/plain": [
       "['p8']"
      ]
     },
     "execution_count": 6,
     "metadata": {},
     "output_type": "execute_result"
    }
   ],
   "source": [
    "#Q4\n",
    "from google.cloud import bigquery\n",
    "\n",
    "client = bigquery.Client()\n",
    "\n",
    "dataset_id = f\"{client.project}.p8\"\n",
    "dataset = bigquery.Dataset(dataset_id)\n",
    "dataset.location = \"US\"\n",
    "client.create_dataset(dataset, exists_ok=True)  \n",
    "\n",
    "bucket_name = 'gcp_bucket_544'\n",
    "file_name = 'hdma-wi-2021-split.parquet'\n",
    "uri = f\"gs://{bucket_name}/{file_name}\"\n",
    "\n",
    "table_id = f\"{dataset_id}.hdma\"\n",
    "job_config = bigquery.LoadJobConfig(\n",
    "    source_format=bigquery.SourceFormat.PARQUET,\n",
    "    write_disposition=bigquery.WriteDisposition.WRITE_TRUNCATE,  # Overwrite the table\n",
    ")\n",
    "load_job = client.load_table_from_uri(\n",
    "    uri, table_id, job_config=job_config\n",
    ")  \n",
    "\n",
    "load_job.result()\n",
    "\n",
    "datasets = [ds.dataset_id for ds in client.list_datasets()]\n",
    "datasets\n"
   ]
  },
  {
   "cell_type": "code",
   "execution_count": 7,
   "metadata": {},
   "outputs": [
    {
     "data": {
      "text/plain": [
       "{'Milwaukee': 46570,\n",
       " 'Dane': 38557,\n",
       " 'Waukesha': 34159,\n",
       " 'Brown': 15615,\n",
       " 'Racine': 13007,\n",
       " 'Outagamie': 11523,\n",
       " 'Kenosha': 10744,\n",
       " 'Washington': 10726,\n",
       " 'Rock': 9834,\n",
       " 'Winnebago': 9310}"
      ]
     },
     "execution_count": 7,
     "metadata": {},
     "output_type": "execute_result"
    }
   ],
   "source": [
    "#Q5\n",
    "query = \"\"\"\n",
    "SELECT c.county_name as county_name, COUNT(*) as application_count\n",
    "FROM `p8.hdma` as h \n",
    "JOIN `bigquery-public-data.geo_us_boundaries.counties` as c\n",
    "ON h.county_code = c.geo_id\n",
    "WHERE c.state_fips_code = '55' \n",
    "GROUP BY county_name\n",
    "ORDER BY application_count DESC\n",
    "LIMIT 10\n",
    "\"\"\"\n",
    "\n",
    "result = bq.query(query).to_dataframe()\n",
    "\n",
    "top_counties = dict(zip(result['county_name'], result['application_count']))\n",
    "top_counties\n"
   ]
  },
  {
   "cell_type": "code",
   "execution_count": 8,
   "metadata": {},
   "outputs": [
    {
     "data": {
      "text/plain": [
       "32"
      ]
     },
     "execution_count": 8,
     "metadata": {},
     "output_type": "execute_result"
    }
   ],
   "source": [
    "#Q6\n",
    "\n",
    "#url = \"https://docs.google.com/spreadsheets/d/1FfalqAWdzz01D1zIvBxsDWLW05-lvANWjjAj2vI4A04/\"\n",
    "\n",
    "external_config = bigquery.ExternalConfig(\"GOOGLE_SHEETS\")\n",
    "external_config.source_uris = [\"https://docs.google.com/spreadsheets/d/1FfalqAWdzz01D1zIvBxsDWLW05-lvANWjjAj2vI4A04/\"]\n",
    "external_config.options.skip_leading_rows = 1  # Skip the header row\n",
    "external_config.autodetect = True  # Auto-detect the schema\n",
    "\n",
    "dataset_id = f\"{client.project}.p8\"\n",
    "table_id = f\"{dataset_id}.applications\"\n",
    "table = bigquery.Table(table_id)\n",
    "table.external_data_configuration = external_config\n",
    "\n",
    "\n",
    "client.create_table(table, exists_ok=True)\n",
    "\n",
    "chosen_income = 100000 \n",
    "\n",
    "query = f\"\"\"\n",
    "SELECT \n",
    "    COUNT(*) AS num_applications\n",
    "FROM \n",
    "    `{client.project}.p8.applications`\n",
    "WHERE \n",
    "    income = {chosen_income}\n",
    "\"\"\"\n",
    "\n",
    "query_job = client.query(query)\n",
    "results = query_job.result()\n",
    "num_applications = 0\n",
    "\n",
    "for row in results:\n",
    "    num_applications = row.num_applications\n",
    "\n",
    "num_applications\n"
   ]
  },
  {
   "cell_type": "code",
   "execution_count": 9,
   "metadata": {},
   "outputs": [
    {
     "data": {
      "text/plain": [
       "{'Dane': 52,\n",
       " 'Door': 12,\n",
       " 'Milwaukee': 8,\n",
       " 'Walworth': 8,\n",
       " 'Brown': 4,\n",
       " 'Jefferson': 4,\n",
       " 'Sheboygan': 3,\n",
       " 'Oneida': 3,\n",
       " 'Winnebago': 3,\n",
       " 'Marinette': 3,\n",
       " 'Outagamie': 2,\n",
       " 'Columbia': 2,\n",
       " 'Manitowoc': 2,\n",
       " 'Monroe': 2,\n",
       " 'Douglas': 2,\n",
       " 'Bayfield': 2,\n",
       " 'Iron': 1,\n",
       " 'Clark': 1,\n",
       " 'Florence': 1,\n",
       " 'Kewaunee': 1,\n",
       " 'Fond du Lac': 1,\n",
       " 'Juneau': 1,\n",
       " 'Green Lake': 1,\n",
       " 'Portage': 1,\n",
       " 'Sauk': 1,\n",
       " 'Marathon': 1,\n",
       " 'Waupaca': 1,\n",
       " 'Ashland': 1,\n",
       " 'Barron': 1}"
      ]
     },
     "execution_count": 9,
     "metadata": {},
     "output_type": "execute_result"
    }
   ],
   "source": [
    "#Q7\n",
    "query = f\"\"\"\n",
    "WITH county_data AS (\n",
    "  SELECT \n",
    "      county_name, \n",
    "      county_geom\n",
    "  FROM \n",
    "      `bigquery-public-data.geo_us_boundaries.counties`\n",
    "  WHERE \n",
    "      state_fips_code = '55'\n",
    ")\n",
    "\n",
    "SELECT \n",
    "    c.county_name,\n",
    "    COUNT(*) AS application_count\n",
    "FROM \n",
    "    county_data c\n",
    "JOIN \n",
    "    `{client.project}.p8.applications` a\n",
    "ON \n",
    "    ST_CONTAINS(c.county_geom, ST_GEOGPOINT(a.longitude, a.latitude))\n",
    "GROUP BY \n",
    "    c.county_name\n",
    "ORDER BY \n",
    "    application_count DESC\n",
    "\"\"\"\n",
    "\n",
    "query_job = client.query(query)\n",
    "results = query_job.result()\n",
    "\n",
    "county_applications = {row.county_name: row.application_count for row in results}\n",
    "county_applications\n"
   ]
  },
  {
   "cell_type": "code",
   "execution_count": 10,
   "metadata": {},
   "outputs": [
    {
     "name": "stdout",
     "output_type": "stream",
     "text": [
      "Model training initiated.\n"
     ]
    }
   ],
   "source": [
    "# Setup Part 4\n",
    "from google.cloud import bigquery\n",
    "\n",
    "client = bigquery.Client()\n",
    "\n",
    "dataset_id = f\"{client.project}.p8\"\n",
    "model_id = f\"{dataset_id}.loan_prediction_model\"\n",
    "\n",
    "query_create_model = f\"\"\"\n",
    "CREATE OR REPLACE MODEL `{model_id}`\n",
    "OPTIONS(model_type='LINEAR_REG', input_label_cols=['loan_amount']) AS\n",
    "SELECT\n",
    "  income,\n",
    "  loan_term,\n",
    "  loan_amount\n",
    "FROM\n",
    "  `{dataset_id}.hdma`\n",
    "WHERE\n",
    "  dataset = 'train'\n",
    "\"\"\"\n",
    "\n",
    "client.query(query_create_model).result()\n",
    "print(\"Model training initiated.\")\n"
   ]
  },
  {
   "cell_type": "code",
   "execution_count": 11,
   "metadata": {},
   "outputs": [
    {
     "data": {
      "text/plain": [
       "77294.68408464032"
      ]
     },
     "execution_count": 11,
     "metadata": {},
     "output_type": "execute_result"
    }
   ],
   "source": [
    "#Q8\n",
    "\n",
    "query_evaluate_model = f\"\"\"\n",
    "SELECT\n",
    "  mean_absolute_error\n",
    "FROM\n",
    "  ML.EVALUATE(MODEL `{model_id}`, (\n",
    "    SELECT\n",
    "      income,\n",
    "      loan_term,\n",
    "      loan_amount\n",
    "    FROM\n",
    "      `{dataset_id}.hdma`\n",
    "    WHERE\n",
    "      dataset = 'test'\n",
    "  ))\n",
    "\"\"\"\n",
    "\n",
    "mae_result = client.query(query_evaluate_model).to_dataframe()\n",
    "mae_result['mean_absolute_error'].iloc[0]\n"
   ]
  },
  {
   "cell_type": "code",
   "execution_count": 12,
   "metadata": {},
   "outputs": [
    {
     "data": {
      "text/plain": [
       "381.80803658694055"
      ]
     },
     "execution_count": 12,
     "metadata": {},
     "output_type": "execute_result"
    }
   ],
   "source": [
    "#Q9\n",
    "from google.cloud import bigquery\n",
    "client = bigquery.Client()\n",
    "\n",
    "dataset_id = f\"{client.project}.p8\"\n",
    "model_id = f\"{dataset_id}.loan_prediction_model\"\n",
    "\n",
    "query_model_weights = f\"\"\"\n",
    "SELECT\n",
    "  processed_input,\n",
    "  weight\n",
    "FROM\n",
    "  ML.WEIGHTS(MODEL `{model_id}`)\n",
    "\"\"\"\n",
    "\n",
    "\n",
    "weights_result = client.query(query_model_weights).to_dataframe()\n",
    "loan_term_coefficient = weights_result[weights_result['processed_input'] == 'loan_term']['weight'].iloc[0]\n",
    "\n",
    "loan_term_coefficient\n"
   ]
  },
  {
   "cell_type": "code",
   "execution_count": 13,
   "metadata": {},
   "outputs": [
    {
     "data": {
      "text/plain": [
       "0.5950000000000002"
      ]
     },
     "execution_count": 13,
     "metadata": {},
     "output_type": "execute_result"
    }
   ],
   "source": [
    "#q10\n",
    "ratio_query = f\"\"\"\n",
    "WITH predictions AS (\n",
    "  SELECT \n",
    "    loan_amount AS actual_loan_amount, \n",
    "    predicted_loan_amount  \n",
    "  FROM ML.PREDICT(MODEL `{model_id}`, (\n",
    "      SELECT loan_amount, income, 360 as loan_term \n",
    "      FROM `{client.project}.p8.applications`\n",
    "  ))\n",
    ")\n",
    "SELECT\n",
    "    AVG(CASE WHEN actual_loan_amount > predicted_loan_amount THEN 1 ELSE 0 END) AS ratio_above_predicted\n",
    "FROM\n",
    "    predictions\n",
    "\"\"\"\n",
    "\n",
    "# Run the query to calculate the ratio\n",
    "ratio_job = client.query(ratio_query)\n",
    "ratio_result = ratio_job.to_dataframe()\n",
    "\n",
    "ratio_result.iloc[0].mean()\n"
   ]
  }
 ],
 "metadata": {
  "kernelspec": {
   "display_name": "Python 3",
   "language": "python",
   "name": "python3"
  },
  "language_info": {
   "codemirror_mode": {
    "name": "ipython",
    "version": 3
   },
   "file_extension": ".py",
   "mimetype": "text/x-python",
   "name": "python",
   "nbconvert_exporter": "python",
   "pygments_lexer": "ipython3",
   "version": "3.10.12"
  }
 },
 "nbformat": 4,
 "nbformat_minor": 2
}
