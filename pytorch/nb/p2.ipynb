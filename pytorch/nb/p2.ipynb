{
 "cells": [
  {
   "cell_type": "code",
   "execution_count": 1,
   "metadata": {},
   "outputs": [
    {
     "data": {
      "text/plain": [
       "(tensor([[ 24.,  51.,  44.,  ...,  61.,  27.,   0.],\n",
       "         [ 22.,  31., 214.,  ...,   9.,   0.,   0.],\n",
       "         [ 84., 126., 239.,  ...,  74.,  24.,   8.],\n",
       "         ...,\n",
       "         [268., 358., 277.,  ..., 107.,  47.,   7.],\n",
       "         [ 81., 116.,  90.,  ...,  36.,   9.,   0.],\n",
       "         [118., 156., 197.,  ...,  19.,   0.,   0.]], dtype=torch.float64),\n",
       " tensor([[3.],\n",
       "         [2.],\n",
       "         [9.],\n",
       "         ...,\n",
       "         [5.],\n",
       "         [2.],\n",
       "         [5.]], dtype=torch.float64))"
      ]
     },
     "execution_count": 1,
     "metadata": {},
     "output_type": "execute_result"
    }
   ],
   "source": [
    "import pandas as pd\n",
    "import torch\n",
    "import math\n",
    "import numpy as np\n",
    "# Load the data\n",
    "train_df = pd.read_csv('train.csv')\n",
    "test_df = pd.read_csv('test.csv')\n",
    "\n",
    "# Convert to numpy arrays\n",
    "train_np = train_df.values\n",
    "test_np = test_df.values\n",
    "\n",
    "# Create the train and test tensors\n",
    "trainX = torch.tensor(train_np[:, :-1], dtype=torch.float64)\n",
    "trainY = torch.tensor(train_np[:, -1:], dtype=torch.float64)\n",
    "testX = torch.tensor(test_np[:, :-1], dtype=torch.float64)\n",
    "testY = torch.tensor(test_np[:, -1:], dtype=torch.float64)\n",
    "\n",
    "trainX, trainY"
   ]
  },
  {
   "cell_type": "code",
   "execution_count": 2,
   "metadata": {},
   "outputs": [
    {
     "data": {
      "text/plain": [
       "83520"
      ]
     },
     "execution_count": 2,
     "metadata": {},
     "output_type": "execute_result"
    }
   ],
   "source": [
    "#Q1\n",
    "\n",
    "1044 * 10 * 8\n"
   ]
  },
  {
   "cell_type": "code",
   "execution_count": 3,
   "metadata": {},
   "outputs": [
    {
     "data": {
      "text/plain": [
       "0.0"
      ]
     },
     "execution_count": 3,
     "metadata": {},
     "output_type": "execute_result"
    }
   ],
   "source": [
    "#Q2\n",
    "trainXConverted = trainX.to(torch.float16).to(torch.float64)\n",
    "\n",
    "torch.max(torch.abs(trainX - trainXConverted)).item()"
   ]
  },
  {
   "cell_type": "code",
   "execution_count": 4,
   "metadata": {},
   "outputs": [
    {
     "data": {
      "text/plain": [
       "False"
      ]
     },
     "execution_count": 4,
     "metadata": {},
     "output_type": "execute_result"
    }
   ],
   "source": [
    "#Q3\n",
    "torch.cuda.is_available()\n"
   ]
  },
  {
   "cell_type": "code",
   "execution_count": 5,
   "metadata": {},
   "outputs": [
    {
     "data": {
      "text/plain": [
       "9.844"
      ]
     },
     "execution_count": 5,
     "metadata": {},
     "output_type": "execute_result"
    }
   ],
   "source": [
    "#Q4\n",
    "coef = torch.tensor([\n",
    "        [0.0040],\n",
    "        [0.0040],\n",
    "        [0.0040],\n",
    "        [0.0040],\n",
    "        [0.0040],\n",
    "        [0.0040], # POS_50_59_CP\n",
    "        [0.0300], # POS_60_69_CP\n",
    "        [0.0300],\n",
    "        [0.0300],\n",
    "        [0.0300]\n",
    "], dtype=trainX.dtype)\n",
    "coef\n",
    "\n",
    "predicted_deaths_first_tract = torch.matmul(testX[0], coef).item()\n",
    "\n",
    "predicted_deaths_first_tract\n"
   ]
  },
  {
   "cell_type": "code",
   "execution_count": 6,
   "metadata": {},
   "outputs": [
    {
     "data": {
      "text/plain": [
       "12.073632183908048"
      ]
     },
     "execution_count": 6,
     "metadata": {},
     "output_type": "execute_result"
    }
   ],
   "source": [
    "#Q5\n",
    "average_predicted_deaths = torch.matmul(testX, coef).mean().item()\n",
    "average_predicted_deaths\n"
   ]
  },
  {
   "cell_type": "code",
   "execution_count": 7,
   "metadata": {},
   "outputs": [
    {
     "data": {
      "text/plain": [
       "19.0"
      ]
     },
     "execution_count": 7,
     "metadata": {},
     "output_type": "execute_result"
    }
   ],
   "source": [
    "#Q6\n",
    "def compute_y(x):\n",
    "    return x**2 - 8*x + 19\n",
    "    \n",
    "x = torch.tensor(0.0)\n",
    "y = compute_y(x)\n",
    "float(y)\n"
   ]
  },
  {
   "cell_type": "code",
   "execution_count": 8,
   "metadata": {},
   "outputs": [
    {
     "data": {
      "text/plain": [
       "3.9999940395355225"
      ]
     },
     "execution_count": 8,
     "metadata": {},
     "output_type": "execute_result"
    }
   ],
   "source": [
    "#Q7\n",
    "x = torch.tensor(0.0, requires_grad=True)\n",
    "optimizer = torch.optim.SGD([x], lr=0.01)   \n",
    "\n",
    "\n",
    "for _ in range(1000):\n",
    "    y = compute_y(x)      \n",
    "    y.backward()          \n",
    "    optimizer.step()\n",
    "    optimizer.zero_grad()  \n",
    "x.item()"
   ]
  },
  {
   "cell_type": "code",
   "execution_count": 9,
   "metadata": {
    "scrolled": true
   },
   "outputs": [
    {
     "data": {
      "text/plain": [
       "197.8007662835249"
      ]
     },
     "execution_count": 9,
     "metadata": {},
     "output_type": "execute_result"
    }
   ],
   "source": [
    "#Q8\n",
    "coef = torch.zeros(trainX.shape[1], 1, dtype=torch.float64, requires_grad=True)\n",
    "\n",
    "predictions = trainX @ coef\n",
    "\n",
    "mse_loss = torch.nn.MSELoss()\n",
    "mse_with_zero_coef = mse_loss(predictions, trainY)\n",
    "mse_with_zero_coef.item() \n"
   ]
  },
  {
   "cell_type": "code",
   "execution_count": 10,
   "metadata": {},
   "outputs": [
    {
     "data": {
      "text/plain": [
       "26.8113940147193"
      ]
     },
     "execution_count": 10,
     "metadata": {},
     "output_type": "execute_result"
    }
   ],
   "source": [
    "#Q9\n",
    "torch.manual_seed(544)\n",
    "\n",
    "ds = torch.utils.data.TensorDataset(trainX, trainY)\n",
    "dl = torch.utils.data.DataLoader(ds, batch_size=50, shuffle=True)\n",
    "\n",
    "optimizer = torch.optim.SGD([coef], lr=0.000002)\n",
    "\n",
    "for epoch in range(500):\n",
    "    for xPrime, yPrime in dl:\n",
    "        optimizer.zero_grad()\n",
    "        predictions = xPrime @ coef\n",
    "        loss = mse_loss(predictions, yPrime)\n",
    "        loss.backward()\n",
    "        optimizer.step()\n",
    "        \n",
    "train_predictions = trainX @ coef\n",
    "mse_train = mse_loss(train_predictions, trainY).item()\n",
    "\n",
    "mse_train\n"
   ]
  },
  {
   "cell_type": "code",
   "execution_count": 11,
   "metadata": {},
   "outputs": [
    {
     "data": {
      "text/plain": [
       "29.05854692548551"
      ]
     },
     "execution_count": 11,
     "metadata": {},
     "output_type": "execute_result"
    }
   ],
   "source": [
    "#Q10\n",
    "test_predictions = testX @ coef\n",
    "mse_test = mse_loss(test_predictions, testY).item()\n",
    "\n",
    "mse_test"
   ]
  },
  {
   "cell_type": "code",
   "execution_count": null,
   "metadata": {},
   "outputs": [],
   "source": []
  }
 ],
 "metadata": {
  "kernelspec": {
   "display_name": "Python 3 (ipykernel)",
   "language": "python",
   "name": "python3"
  },
  "language_info": {
   "codemirror_mode": {
    "name": "ipython",
    "version": 3
   },
   "file_extension": ".py",
   "mimetype": "text/x-python",
   "name": "python",
   "nbconvert_exporter": "python",
   "pygments_lexer": "ipython3",
   "version": "3.11.6"
  }
 },
 "nbformat": 4,
 "nbformat_minor": 4
}
