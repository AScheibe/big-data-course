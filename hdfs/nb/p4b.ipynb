{
 "cells": [
  {
   "cell_type": "code",
   "execution_count": 2,
   "id": "aaea9fbc-eedf-4e69-96a9-ab1d834e1d00",
   "metadata": {},
   "outputs": [
    {
     "name": "stdout",
     "output_type": "stream",
     "text": [
      "Live datanodes (2):\n"
     ]
    }
   ],
   "source": [
    "#q8\n",
    "!hdfs dfsadmin -fs hdfs://boss:9000 -report | grep \"Live datanodes\""
   ]
  },
  {
   "cell_type": "code",
   "execution_count": 6,
   "id": "94fcd17c-3d0c-4ae0-8d62-73ba578f3559",
   "metadata": {},
   "outputs": [
    {
     "data": {
      "text/plain": [
       "{'lost': 92, '0b4a56935bb6': 75}"
      ]
     },
     "execution_count": 6,
     "metadata": {},
     "output_type": "execute_result"
    }
   ],
   "source": [
    "#q9\n",
    "import requests\n",
    "from urllib.parse import urlparse\n",
    "\n",
    "block_distribution = {}\n",
    "\n",
    "for offset in range(0, 174944099, 2 ** 20):\n",
    "    response = requests.get(f'http://boss:9870/webhdfs/v1/single.csv?op=OPEN&offset={offset}&noredirect=true')\n",
    "    \n",
    "    if response.status_code == 403:\n",
    "        block_distribution['lost'] = block_distribution.get('lost', 0) + 1\n",
    "        continue\n",
    "    \n",
    "    container_id = urlparse(response.json()['Location']).hostname\n",
    "    block_distribution[container_id] = block_distribution.get(container_id, 0) + 1\n",
    "        \n",
    "block_distribution"
   ]
  },
  {
   "cell_type": "code",
   "execution_count": 1,
   "id": "20325ff3-730e-4757-a257-c97d4b8f651f",
   "metadata": {},
   "outputs": [
    {
     "ename": "KeyError",
     "evalue": "'LocatedBlocks'",
     "output_type": "error",
     "traceback": [
      "\u001b[0;31m---------------------------------------------------------------------------\u001b[0m",
      "\u001b[0;31mKeyError\u001b[0m                                  Traceback (most recent call last)",
      "Cell \u001b[0;32mIn[1], line 31\u001b[0m\n\u001b[1;32m     28\u001b[0m             count \u001b[38;5;241m+\u001b[39m\u001b[38;5;241m=\u001b[39m data\u001b[38;5;241m.\u001b[39mcount(search_string)\n\u001b[1;32m     29\u001b[0m     \u001b[38;5;28;01mreturn\u001b[39;00m count\n\u001b[0;32m---> 31\u001b[0m num_occurrences \u001b[38;5;241m=\u001b[39m \u001b[43mcount_lines_in_good_blocks\u001b[49m\u001b[43m(\u001b[49m\u001b[38;5;124;43m\"\u001b[39;49m\u001b[38;5;124;43m/single.csv\u001b[39;49m\u001b[38;5;124;43m\"\u001b[39;49m\u001b[43m,\u001b[49m\u001b[43m \u001b[49m\u001b[38;5;124;43m\"\u001b[39;49m\u001b[38;5;124;43mSingle Family\u001b[39;49m\u001b[38;5;124;43m\"\u001b[39;49m\u001b[43m)\u001b[49m\n\u001b[1;32m     32\u001b[0m num_occurrences\n",
      "Cell \u001b[0;32mIn[1], line 21\u001b[0m, in \u001b[0;36mcount_lines_in_good_blocks\u001b[0;34m(filename, search_string)\u001b[0m\n\u001b[1;32m     20\u001b[0m \u001b[38;5;28;01mdef\u001b[39;00m \u001b[38;5;21mcount_lines_in_good_blocks\u001b[39m(filename, search_string):\n\u001b[0;32m---> 21\u001b[0m     good_blocks \u001b[38;5;241m=\u001b[39m \u001b[43mget_good_blocks\u001b[49m\u001b[43m(\u001b[49m\u001b[43mfilename\u001b[49m\u001b[43m)\u001b[49m\n\u001b[1;32m     22\u001b[0m     count \u001b[38;5;241m=\u001b[39m \u001b[38;5;241m0\u001b[39m\n\u001b[1;32m     23\u001b[0m     hdfs \u001b[38;5;241m=\u001b[39m pa\u001b[38;5;241m.\u001b[39mfs\u001b[38;5;241m.\u001b[39mHadoopFileSystem(host\u001b[38;5;241m=\u001b[39m\u001b[38;5;124m\"\u001b[39m\u001b[38;5;124mboss\u001b[39m\u001b[38;5;124m\"\u001b[39m, port\u001b[38;5;241m=\u001b[39m\u001b[38;5;241m9000\u001b[39m)\n",
      "Cell \u001b[0;32mIn[1], line 10\u001b[0m, in \u001b[0;36mget_good_blocks\u001b[0;34m(filename)\u001b[0m\n\u001b[1;32m      8\u001b[0m url \u001b[38;5;241m=\u001b[39m \u001b[38;5;124mf\u001b[39m\u001b[38;5;124m\"\u001b[39m\u001b[38;5;124mhttp://boss:9870/webhdfs/v1/\u001b[39m\u001b[38;5;132;01m{\u001b[39;00mfilename\u001b[38;5;132;01m}\u001b[39;00m\u001b[38;5;124m?op=GET_BLOCK_LOCATIONS\u001b[39m\u001b[38;5;124m\"\u001b[39m\n\u001b[1;32m      9\u001b[0m response \u001b[38;5;241m=\u001b[39m requests\u001b[38;5;241m.\u001b[39mget(url)\n\u001b[0;32m---> 10\u001b[0m blocks \u001b[38;5;241m=\u001b[39m \u001b[43mresponse\u001b[49m\u001b[38;5;241;43m.\u001b[39;49m\u001b[43mjson\u001b[49m\u001b[43m(\u001b[49m\u001b[43m)\u001b[49m\u001b[43m[\u001b[49m\u001b[38;5;124;43m'\u001b[39;49m\u001b[38;5;124;43mLocatedBlocks\u001b[39;49m\u001b[38;5;124;43m'\u001b[39;49m\u001b[43m]\u001b[49m[\u001b[38;5;124m'\u001b[39m\u001b[38;5;124mlocatedBlocks\u001b[39m\u001b[38;5;124m'\u001b[39m]\n\u001b[1;32m     11\u001b[0m good_blocks \u001b[38;5;241m=\u001b[39m []\n\u001b[1;32m     12\u001b[0m \u001b[38;5;28;01mfor\u001b[39;00m block \u001b[38;5;129;01min\u001b[39;00m blocks:\n",
      "\u001b[0;31mKeyError\u001b[0m: 'LocatedBlocks'"
     ]
    }
   ],
   "source": [
    "#q10\n",
    "\n",
    "import requests\n",
    "import pyarrow as pa\n",
    "import pyarrow.fs\n",
    "\n",
    "def get_good_blocks(filename):\n",
    "    url = f\"http://boss:9870/webhdfs/v1/{filename}?op=GET_BLOCK_LOCATIONS\"\n",
    "    response = requests.get(url)\n",
    "    blocks = response.json()['LocatedBlocks']['locatedBlocks']\n",
    "    good_blocks = []\n",
    "    for block in blocks:\n",
    "        if block['locations']:\n",
    "            good_blocks.append({\n",
    "                'offset': block['startOffset'],\n",
    "                'length': block['block']['numBytes']\n",
    "            })\n",
    "    return good_blocks\n",
    "\n",
    "def count_lines_in_good_blocks(filename, search_string):\n",
    "    good_blocks = get_good_blocks(filename)\n",
    "    count = 0\n",
    "    hdfs = pa.fs.HadoopFileSystem(host=\"boss\", port=9000)\n",
    "    with hdfs.open_input_file(filename) as file:\n",
    "        for block in good_blocks:\n",
    "            file.seek(block['offset'])\n",
    "            data = file.read(block['length']).decode('utf-8')\n",
    "            count += data.count(search_string)\n",
    "    return count\n",
    "\n",
    "num_occurrences = count_lines_in_good_blocks(\"/single.csv\", \"Single Family\")\n",
    "num_occurrences"
   ]
  }
 ],
 "metadata": {
  "kernelspec": {
   "display_name": "Python 3 (ipykernel)",
   "language": "python",
   "name": "python3"
  },
  "language_info": {
   "codemirror_mode": {
    "name": "ipython",
    "version": 3
   },
   "file_extension": ".py",
   "mimetype": "text/x-python",
   "name": "python",
   "nbconvert_exporter": "python",
   "pygments_lexer": "ipython3",
   "version": "3.10.12"
  }
 },
 "nbformat": 4,
 "nbformat_minor": 5
}
