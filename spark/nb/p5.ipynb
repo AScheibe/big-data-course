{
 "cells": [
  {
   "cell_type": "code",
   "execution_count": 1,
   "id": "c67e2ef0-3fb2-4bf3-b60c-766d897d0393",
   "metadata": {},
   "outputs": [],
   "source": [
    "!hdfs dfs -D dfs.replication=1 -cp -f data/*.csv hdfs://nn:9000/"
   ]
  },
  {
   "cell_type": "code",
   "execution_count": 2,
   "id": "2c256c80-88d5-4bfb-a282-bf26f08d770d",
   "metadata": {},
   "outputs": [
    {
     "name": "stderr",
     "output_type": "stream",
     "text": [
      "Setting default log level to \"WARN\".\n",
      "To adjust logging level use sc.setLogLevel(newLevel). For SparkR, use setLogLevel(newLevel).\n",
      "24/04/05 21:45:42 WARN NativeCodeLoader: Unable to load native-hadoop library for your platform... using builtin-java classes where applicable\n"
     ]
    }
   ],
   "source": [
    "from pyspark.sql import SparkSession\n",
    "spark = (SparkSession.builder.appName(\"cs544\")\n",
    "         .master(\"spark://boss:7077\")\n",
    "         .config(\"spark.executor.memory\", \"512M\")\n",
    "         .config(\"spark.sql.warehouse.dir\", \"hdfs://nn:9000/user/hive/warehouse\")\n",
    "         .enableHiveSupport()\n",
    "         .getOrCreate())"
   ]
  },
  {
   "cell_type": "code",
   "execution_count": 3,
   "id": "2bc4e529-3b60-43cd-aff1-061e24a21ba1",
   "metadata": {},
   "outputs": [
    {
     "name": "stderr",
     "output_type": "stream",
     "text": [
      "[Stage 2:>                                                          (0 + 1) / 1]\r"
     ]
    },
    {
     "name": "stdout",
     "output_type": "stream",
     "text": [
      "106\n"
     ]
    },
    {
     "name": "stderr",
     "output_type": "stream",
     "text": [
      "                                                                                \r"
     ]
    }
   ],
   "source": [
    "banks_df = spark.read.option(\"header\", \"true\").option(\"inferSchema\", \"true\").csv(\"hdfs://nn:9000/arid2017_to_lei_xref_csv.csv\")\n",
    "\n",
    "banks_rdd = banks_df.rdd\n",
    "\n",
    "count = banks_rdd.filter(lambda row: \"The\" in row.respondent_name and \"National\" in row.respondent_name).count()\n",
    "\n",
    "# Print the count\n",
    "print(count)"
   ]
  },
  {
   "cell_type": "code",
   "execution_count": 4,
   "id": "29f1d5f1-0e76-46bb-b913-3e5a963fa9ed",
   "metadata": {},
   "outputs": [
    {
     "name": "stderr",
     "output_type": "stream",
     "text": [
      "                                                                                \r"
     ]
    },
    {
     "data": {
      "text/plain": [
       "106"
      ]
     },
     "execution_count": 4,
     "metadata": {},
     "output_type": "execute_result"
    }
   ],
   "source": [
    "#q1\n",
    "banks_df = spark.read.option(\"header\", \"true\").option(\"inferSchema\", \"true\").csv(\"hdfs://nn:9000/arid2017_to_lei_xref_csv.csv\")\n",
    "\n",
    "banks_rdd = banks_df.rdd\n",
    "\n",
    "count = banks_rdd.filter(lambda row: \"The\" in row.respondent_name and \"National\" in row.respondent_name).count()\n",
    "\n",
    "count"
   ]
  },
  {
   "cell_type": "code",
   "execution_count": 5,
   "id": "b72c9ee2-f1dc-45b9-aa36-3757d29d5d46",
   "metadata": {},
   "outputs": [
    {
     "name": "stderr",
     "output_type": "stream",
     "text": [
      "                                                                                \r"
     ]
    },
    {
     "data": {
      "text/plain": [
       "106"
      ]
     },
     "execution_count": 5,
     "metadata": {},
     "output_type": "execute_result"
    }
   ],
   "source": [
    "#q2\n",
    "banks_df = spark.read.option(\"header\", \"true\").option(\"inferSchema\", \"true\").csv(\"hdfs://nn:9000/arid2017_to_lei_xref_csv.csv\")\n",
    "\n",
    "count = banks_df.filter(\"respondent_name LIKE '%The%' AND respondent_name LIKE '%National%'\").count()\n",
    "\n",
    "count\n"
   ]
  },
  {
   "cell_type": "code",
   "execution_count": 6,
   "id": "d7bcb445-4834-428c-8a79-286afd11c208",
   "metadata": {},
   "outputs": [
    {
     "name": "stderr",
     "output_type": "stream",
     "text": [
      "24/04/05 21:46:40 WARN HiveConf: HiveConf of name hive.stats.jdbc.timeout does not exist\n",
      "24/04/05 21:46:40 WARN HiveConf: HiveConf of name hive.stats.retries.wait does not exist\n",
      "24/04/05 21:46:45 WARN ObjectStore: Version information not found in metastore. hive.metastore.schema.verification is not enabled so recording the schema version 2.3.0\n",
      "24/04/05 21:46:45 WARN ObjectStore: setMetaStoreSchemaVersion called but recording version is disabled: version = 2.3.0, comment = Set by MetaStore UNKNOWN@172.25.0.6\n",
      "24/04/05 21:46:47 WARN ObjectStore: Failed to get database global_temp, returning NoSuchObjectException\n",
      "24/04/05 21:46:48 WARN SparkStringUtils: Truncated the string representation of a plan since it was too large. This behavior can be adjusted by setting 'spark.sql.debug.maxToStringFields'.\n",
      "24/04/05 21:47:17 WARN SessionState: METASTORE_FILTER_HOOK will be ignored, since hive.security.authorization.manager is set to instance of HiveAuthorizerFactory.\n",
      "24/04/05 21:47:18 WARN HiveConf: HiveConf of name hive.internal.ss.authz.settings.applied.marker does not exist\n",
      "24/04/05 21:47:18 WARN HiveConf: HiveConf of name hive.stats.jdbc.timeout does not exist\n",
      "24/04/05 21:47:18 WARN HiveConf: HiveConf of name hive.stats.retries.wait does not exist\n"
     ]
    }
   ],
   "source": [
    "loans_df = spark.read.option(\"header\", \"true\").option(\"inferSchema\", \"true\").csv(\"hdfs://nn:9000/hdma-wi-2021.csv\")\n",
    "\n",
    "loans_df.write.bucketBy(8, \"county_code\").saveAsTable(\"loans\", mode=\"overwrite\")\n",
    "\n",
    "tables = [\"ethnicity\", \"race\", \"sex\", \"states\", \"counties\", \"tracts\", \"action_taken\", \"denial_reason\", \"loan_type\", \"loan_purpose\", \"preapproval\", \"property_type\"]\n",
    "\n",
    "for table in tables:\n",
    "    df = spark.read.option(\"header\", \"true\").option(\"inferSchema\", \"true\").csv(f\"hdfs://nn:9000/{table}.csv\")\n",
    "    df.createOrReplaceTempView(table)\n",
    "\n"
   ]
  },
  {
   "cell_type": "code",
   "execution_count": 7,
   "id": "27499684-1eaa-4c52-82df-04e2092e9522",
   "metadata": {},
   "outputs": [
    {
     "name": "stderr",
     "output_type": "stream",
     "text": [
      "                                                                                \r"
     ]
    },
    {
     "data": {
      "text/plain": [
       "106"
      ]
     },
     "execution_count": 7,
     "metadata": {},
     "output_type": "execute_result"
    }
   ],
   "source": [
    "#q3\n",
    "banks_df = spark.read.option(\"header\", \"true\").option(\"inferSchema\", \"true\").csv(\"hdfs://nn:9000/arid2017_to_lei_xref_csv.csv\")\n",
    "\n",
    "banks_df.write.saveAsTable(\"banks\", mode=\"overwrite\")\n",
    "\n",
    "count_df = spark.sql(\"SELECT COUNT(*) AS count FROM banks WHERE respondent_name LIKE '%The%' AND respondent_name LIKE '%National%'\")\n",
    "\n",
    "count = count_df.collect()[0]['count']\n",
    "\n",
    "count\n"
   ]
  },
  {
   "cell_type": "code",
   "execution_count": 8,
   "id": "c5fd2e17-13e9-4571-9575-2b8e58d5abef",
   "metadata": {},
   "outputs": [
    {
     "data": {
      "text/plain": [
       "{'banks': False,\n",
       " 'loans': False,\n",
       " 'action_taken': True,\n",
       " 'counties': True,\n",
       " 'denial_reason': True,\n",
       " 'ethnicity': True,\n",
       " 'loan_purpose': True,\n",
       " 'loan_type': True,\n",
       " 'preapproval': True,\n",
       " 'property_type': True,\n",
       " 'race': True,\n",
       " 'sex': True,\n",
       " 'states': True,\n",
       " 'tracts': True}"
      ]
     },
     "execution_count": 8,
     "metadata": {},
     "output_type": "execute_result"
    }
   ],
   "source": [
    "#q4\n",
    "tables_df = spark.sql(\"SHOW TABLES\")\n",
    "tables_list = tables_df.collect()\n",
    "tables_dict = {row.tableName: row.isTemporary for row in tables_list}\n",
    "tables_dict\n"
   ]
  },
  {
   "cell_type": "code",
   "execution_count": 9,
   "id": "b9de9c70-4803-4112-9c0a-472ea9cfba25",
   "metadata": {},
   "outputs": [
    {
     "name": "stderr",
     "output_type": "stream",
     "text": [
      "                                                                                \r"
     ]
    },
    {
     "data": {
      "text/plain": [
       "6"
      ]
     },
     "execution_count": 9,
     "metadata": {},
     "output_type": "execute_result"
    }
   ],
   "source": [
    "#q5\n",
    "query = \"\"\"\n",
    "SELECT COUNT(*) AS num_applications\n",
    "FROM loans\n",
    "INNER JOIN banks ON loans.lei = banks.lei_2020\n",
    "WHERE banks.respondent_name = 'First National Bank'\n",
    "\"\"\"\n",
    "num_applications = spark.sql(query).collect()[0]['num_applications']\n",
    "num_applications\n"
   ]
  },
  {
   "cell_type": "code",
   "execution_count": 10,
   "id": "2eb3128c-7af9-4b92-aeb4-7d5ce92e5b76",
   "metadata": {},
   "outputs": [
    {
     "name": "stdout",
     "output_type": "stream",
     "text": [
      "== Physical Plan ==\n",
      "AdaptiveSparkPlan (12)\n",
      "+- HashAggregate (11)\n",
      "   +- Exchange (10)\n",
      "      +- HashAggregate (9)\n",
      "         +- Project (8)\n",
      "            +- BroadcastHashJoin Inner BuildRight (7)\n",
      "               :- Filter (2)\n",
      "               :  +- Scan parquet spark_catalog.default.loans (1)\n",
      "               +- BroadcastExchange (6)\n",
      "                  +- Project (5)\n",
      "                     +- Filter (4)\n",
      "                        +- Scan parquet spark_catalog.default.banks (3)\n",
      "\n",
      "\n",
      "(1) Scan parquet spark_catalog.default.loans\n",
      "Output [1]: [lei#1075]\n",
      "Batched: true\n",
      "Bucketed: false (bucket column(s) not read)\n",
      "Location: InMemoryFileIndex [hdfs://nn:9000/user/hive/warehouse/loans]\n",
      "PushedFilters: [IsNotNull(lei)]\n",
      "ReadSchema: struct<lei:string>\n",
      "\n",
      "(2) Filter\n",
      "Input [1]: [lei#1075]\n",
      "Condition : isnotnull(lei#1075)\n",
      "\n",
      "(3) Scan parquet spark_catalog.default.banks\n",
      "Output [2]: [respondent_name#1047, lei_2020#1051]\n",
      "Batched: true\n",
      "Location: InMemoryFileIndex [hdfs://nn:9000/user/hive/warehouse/banks]\n",
      "PushedFilters: [IsNotNull(respondent_name), EqualTo(respondent_name,First National Bank), IsNotNull(lei_2020)]\n",
      "ReadSchema: struct<respondent_name:string,lei_2020:string>\n",
      "\n",
      "(4) Filter\n",
      "Input [2]: [respondent_name#1047, lei_2020#1051]\n",
      "Condition : ((isnotnull(respondent_name#1047) AND (respondent_name#1047 = First National Bank)) AND isnotnull(lei_2020#1051))\n",
      "\n",
      "(5) Project\n",
      "Output [1]: [lei_2020#1051]\n",
      "Input [2]: [respondent_name#1047, lei_2020#1051]\n",
      "\n",
      "(6) BroadcastExchange\n",
      "Input [1]: [lei_2020#1051]\n",
      "Arguments: HashedRelationBroadcastMode(List(input[0, string, true]),false), [plan_id=683]\n",
      "\n",
      "(7) BroadcastHashJoin\n",
      "Left keys [1]: [lei#1075]\n",
      "Right keys [1]: [lei_2020#1051]\n",
      "Join type: Inner\n",
      "Join condition: None\n",
      "\n",
      "(8) Project\n",
      "Output: []\n",
      "Input [2]: [lei#1075, lei_2020#1051]\n",
      "\n",
      "(9) HashAggregate\n",
      "Input: []\n",
      "Keys: []\n",
      "Functions [1]: [partial_count(1)]\n",
      "Aggregate Attributes [1]: [count#1180L]\n",
      "Results [1]: [count#1181L]\n",
      "\n",
      "(10) Exchange\n",
      "Input [1]: [count#1181L]\n",
      "Arguments: SinglePartition, ENSURE_REQUIREMENTS, [plan_id=688]\n",
      "\n",
      "(11) HashAggregate\n",
      "Input [1]: [count#1181L]\n",
      "Keys: []\n",
      "Functions [1]: [count(1)]\n",
      "Aggregate Attributes [1]: [count(1)#1178L]\n",
      "Results [1]: [count(1)#1178L AS num_applications#1177L]\n",
      "\n",
      "(12) AdaptiveSparkPlan\n",
      "Output [1]: [num_applications#1177L]\n",
      "Arguments: isFinalPlan=false\n",
      "\n",
      "\n"
     ]
    }
   ],
   "source": [
    "#q6\n",
    "spark.sql(query).explain(\"formatted\")"
   ]
  },
  {
   "cell_type": "markdown",
   "id": "9d0bd8f4-0824-43be-b082-40f3bbf1981d",
   "metadata": {},
   "source": [
    "\n",
    "\n",
    "1. The table that is sent to every executor via a BroadcastExchange operation is the banks table. This can be seen in the plan where there is a BroadcastExchange (6) followed by a BroadcastHashJoin (7) on the banks table.\n",
    "\n",
    "2. Yes, the plan involves HashAggregate operations. There are two HashAggregate operations in the plan:\n",
    "\n",
    "The first HashAggregate (9) is a partial aggregation that computes a partial count of the number of applications.\n",
    "The second HashAggregate (11) is a final aggregation that computes the total count of the number of applications.\n"
   ]
  },
  {
   "cell_type": "code",
   "execution_count": 11,
   "id": "f6bc5318-608d-4f37-aca0-cf5e184c6fef",
   "metadata": {
    "scrolled": true
   },
   "outputs": [
    {
     "name": "stderr",
     "output_type": "stream",
     "text": [
      "                                                                                \r"
     ]
    },
    {
     "data": {
      "text/plain": [
       "{'Bayfield': 33,\n",
       " 'Dane': 729,\n",
       " 'Door': 174,\n",
       " 'Florence': 8,\n",
       " 'Forest': 7,\n",
       " 'Oneida': 70,\n",
       " 'Ozaukee': 389,\n",
       " 'Sawyer': 38,\n",
       " 'Vilas': 68,\n",
       " 'Waukesha': 1832}"
      ]
     },
     "execution_count": 11,
     "metadata": {},
     "output_type": "execute_result"
    }
   ],
   "source": [
    "#q7\n",
    "import matplotlib.pyplot as plt\n",
    "from pyspark.sql.functions import col\n",
    "\n",
    "loans_df = spark.read.option(\"header\", \"true\").option(\"inferSchema\", \"true\").csv(\"hdfs://nn:9000/hdma-wi-2021.csv\")\n",
    "banks_df = spark.read.option(\"header\", \"true\").option(\"inferSchema\", \"true\").csv(\"hdfs://nn:9000/arid2017_to_lei_xref_csv.csv\")\n",
    "counties_df = spark.read.option(\"header\", \"true\").option(\"inferSchema\", \"true\").csv(\"hdfs://nn:9000/counties.csv\")\n",
    "\n",
    "\n",
    "wells_fargo_loans = loans_df.join(banks_df, loans_df.lei == banks_df.lei_2020).filter(col(\"respondent_name\").contains(\"Wells Fargo\"))\n",
    "\n",
    "wells_fargo_loans_with_counties = wells_fargo_loans.join(counties_df, wells_fargo_loans.county_code == counties_df.STATE * 1000 + counties_df.COUNTY)\n",
    "\n",
    "top_counties = wells_fargo_loans_with_counties.groupBy(\"NAME\") \\\n",
    "                                              .agg({\"loan_amount\": \"avg\"}) \\\n",
    "                                              .withColumnRenamed(\"avg(loan_amount)\", \"avg_loan_amount\") \\\n",
    "                                              .orderBy(col(\"avg_loan_amount\").desc()) \\\n",
    "                                              .limit(10)\n",
    "\n",
    "application_counts = wells_fargo_loans_with_counties.join(top_counties, \"NAME\") \\\n",
    "                                                    .groupBy(\"NAME\") \\\n",
    "                                                    .count() \\\n",
    "                                                    .orderBy(\"NAME\")\n",
    "\n",
    "application_counts_dict = {row[\"NAME\"]: row[\"count\"] for row in application_counts.collect()}\n",
    "\n",
    "application_counts_dict"
   ]
  },
  {
   "cell_type": "code",
   "execution_count": 12,
   "id": "0e3a2a37-0e68-47ae-b950-0ffdf4b6ee37",
   "metadata": {},
   "outputs": [
    {
     "name": "stderr",
     "output_type": "stream",
     "text": [
      "                                                                                \r"
     ]
    },
    {
     "data": {
      "image/png": "[encoded data removed]",
      "text/plain": [
       "<Figure size 1200x600 with 1 Axes>"
      ]
     },
     "metadata": {},
     "output_type": "display_data"
    }
   ],
   "source": [
    "plot_data = application_counts.join(top_counties, application_counts.NAME == top_counties.NAME) \\\n",
    "                              .select(application_counts.NAME, \"count\", \"avg_loan_amount\") \\\n",
    "                              .orderBy(\"avg_loan_amount\", ascending=False) \\\n",
    "                              .collect()\n",
    "\n",
    "counties = [row[\"NAME\"] for row in plot_data]\n",
    "application_counts = [row[\"count\"] for row in plot_data]\n",
    "avg_loan_amounts = [row[\"avg_loan_amount\"] for row in plot_data]\n",
    "\n",
    "plt.figure(figsize=(12, 6))\n",
    "plt.bar(counties, application_counts, color='skyblue')\n",
    "plt.xlabel('County')\n",
    "plt.ylabel('Number of Applications')\n",
    "plt.title('Wells Fargo Loan Applications by County (Sorted by Average Loan Amount)')\n",
    "plt.xticks(rotation=45)\n",
    "plt.show()"
   ]
  },
  {
   "cell_type": "code",
   "execution_count": 13,
   "id": "92369b6c-9ae3-41e6-8fd5-c56a33191167",
   "metadata": {},
   "outputs": [
    {
     "name": "stdout",
     "output_type": "stream",
     "text": [
      "== Physical Plan ==\n",
      "AdaptiveSparkPlan isFinalPlan=false\n",
      "+- HashAggregate(keys=[county_code#1203], functions=[avg(loan_amount#1220)])\n",
      "   +- Exchange hashpartitioning(county_code#1203, 200), ENSURE_REQUIREMENTS, [plan_id=3309]\n",
      "      +- HashAggregate(keys=[county_code#1203], functions=[partial_avg(loan_amount#1220)])\n",
      "         +- FileScan csv [county_code#1203,loan_amount#1220] Batched: false, DataFilters: [], Format: CSV, Location: InMemoryFileIndex(1 paths)[hdfs://nn:9000/hdma-wi-2021.csv], PartitionFilters: [], PushedFilters: [], ReadSchema: struct<county_code:string,loan_amount:double>\n",
      "\n",
      "\n",
      "== Physical Plan ==\n",
      "AdaptiveSparkPlan isFinalPlan=false\n",
      "+- HashAggregate(keys=[lei#1200], functions=[avg(loan_amount#1220)])\n",
      "   +- Exchange hashpartitioning(lei#1200, 200), ENSURE_REQUIREMENTS, [plan_id=3322]\n",
      "      +- HashAggregate(keys=[lei#1200], functions=[partial_avg(loan_amount#1220)])\n",
      "         +- FileScan csv [lei#1200,loan_amount#1220] Batched: false, DataFilters: [], Format: CSV, Location: InMemoryFileIndex(1 paths)[hdfs://nn:9000/hdma-wi-2021.csv], PartitionFilters: [], PushedFilters: [], ReadSchema: struct<lei:string,loan_amount:double>\n",
      "\n",
      "\n"
     ]
    }
   ],
   "source": [
    "#q8\n",
    "from pyspark.sql.functions import mean\n",
    "\n",
    "query1 = loans_df.groupBy(\"county_code\").agg(mean(\"loan_amount\").alias(\"avg_loan_amount\"))\n",
    "query1.explain()\n",
    "\n",
    "query2 = loans_df.groupBy(\"lei\").agg(mean(\"loan_amount\").alias(\"avg_loan_amount\"))\n",
    "query2.explain()\n"
   ]
  },
  {
   "cell_type": "markdown",
   "id": "2cd52c31-4769-4d9b-a7c3-3e8a1df60258",
   "metadata": {},
   "source": [
    "#q8\n",
    "Network I/O is required in both queries between because of the shuffles that occur to redistribute the data for grouping.\n",
    "\n",
    "The need for a shuffle, and, by extension, network I/O is determined by how the data is partitioned and what column you are grouping by. If the data is already partitioned with bucketing by a grouping column, a shuffle might be avoided. In this case, both queries require a shuffle because the data needs to be redistributed based on the grouping column."
   ]
  },
  {
   "cell_type": "code",
   "execution_count": 14,
   "id": "efc7b280-d725-4b94-9d27-b8476f56a4de",
   "metadata": {},
   "outputs": [
    {
     "name": "stderr",
     "output_type": "stream",
     "text": [
      "                                                                                \r"
     ]
    },
    {
     "data": {
      "text/plain": [
       "242868"
      ]
     },
     "execution_count": 14,
     "metadata": {},
     "output_type": "execute_result"
    }
   ],
   "source": [
    "#q9\n",
    "from pyspark.sql.functions import col, when\n",
    "\n",
    "df = spark.sql(\"SELECT loan_amount, income, interest_rate, action_taken as approval FROM loans\").withColumn(\"approval\", when(col(\"approval\") == 1, 1.0).otherwise(0.0))\n",
    "\n",
    "df = df.select(\n",
    "    col(\"loan_amount\").cast(\"double\"),\n",
    "    col(\"income\").cast(\"double\"),\n",
    "    col(\"interest_rate\").cast(\"double\"),\n",
    "    col(\"approval\").cast(\"double\")\n",
    ")\n",
    "\n",
    "df = df.fillna(0.0)\n",
    "\n",
    "train, test = df.randomSplit([0.8, 0.2], seed=41)\n",
    "\n",
    "train.filter(col(\"approval\") == 1).count()"
   ]
  },
  {
   "cell_type": "code",
   "execution_count": 15,
   "id": "67ab3c7e-eb1d-41c9-a76b-77084b6288c4",
   "metadata": {},
   "outputs": [
    {
     "name": "stderr",
     "output_type": "stream",
     "text": [
      "                                                                                \r"
     ]
    },
    {
     "data": {
      "text/plain": [
       "0.8943554580972629"
      ]
     },
     "execution_count": 15,
     "metadata": {},
     "output_type": "execute_result"
    }
   ],
   "source": [
    "#q10\n",
    "from pyspark.ml.feature import VectorAssembler\n",
    "from pyspark.ml.classification import RandomForestClassifier\n",
    "\n",
    "vector_assembler = VectorAssembler(inputCols=[\"loan_amount\", \"income\", \"interest_rate\"], outputCol=\"features\")\n",
    "train_features = vector_assembler.transform(train)\n",
    "test_features = vector_assembler.transform(test)\n",
    "\n",
    "rf_classifier = RandomForestClassifier(labelCol=\"approval\", featuresCol=\"features\", numTrees=10)\n",
    "model = rf_classifier.fit(train_features)\n",
    "\n",
    "predictions = model.transform(test_features)\n",
    "\n",
    "answer = predictions.filter(col(\"approval\") == col(\"prediction\")).count() / test.count()\n",
    "\n",
    "answer\n"
   ]
  }
 ],
 "metadata": {
  "kernelspec": {
   "display_name": "Python 3 (ipykernel)",
   "language": "python",
   "name": "python3"
  },
  "language_info": {
   "codemirror_mode": {
    "name": "ipython",
    "version": 3
   },
   "file_extension": ".py",
   "mimetype": "text/x-python",
   "name": "python",
   "nbconvert_exporter": "python",
   "pygments_lexer": "ipython3",
   "version": "3.10.12"
  }
 },
 "nbformat": 4,
 "nbformat_minor": 5
}
